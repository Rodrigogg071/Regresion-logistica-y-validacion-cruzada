{
 "cells": [
  {
   "cell_type": "markdown",
   "id": "1b9ff544-87aa-48bf-adf0-e2f657de05ae",
   "metadata": {},
   "source": [
    "# Clasificación - Regresión Logística\n",
    "\n",
    "Para esta actividad se buscará realizar un modelo de regresión logística para clasificación.\n",
    "\n",
    "\n",
    "### Paso 1\n",
    "\n",
    "Primero, importaremos la base de datos \"auto_mpg.csv\", obtenida y limpiada de un proyecto anterior."
   ]
  },
  {
   "cell_type": "code",
   "execution_count": 26,
   "id": "8380e054-2fc9-4513-bcc0-6dd2a8be8c96",
   "metadata": {},
   "outputs": [
    {
     "name": "stdout",
     "output_type": "stream",
     "text": [
      "    mpg  cylinders  displacement  horsepower  weight  acceleration  \\\n",
      "0  18.0          8         307.0       130.0  3504.0          12.0   \n",
      "1  15.0          8         350.0       165.0  3693.0          11.5   \n",
      "2  18.0          8         318.0       150.0  3436.0          11.0   \n",
      "3  16.0          8         304.0       150.0  3433.0          12.0   \n",
      "4  17.0          8         302.0       140.0  3449.0          10.5   \n",
      "\n",
      "   model_year                   car_name  origin_1  origin_2  origin_3  \n",
      "0          70  chevrolet chevelle malibu         1         0         0  \n",
      "1          70          buick skylark 320         1         0         0  \n",
      "2          70         plymouth satellite         1         0         0  \n",
      "3          70              amc rebel sst         1         0         0  \n",
      "4          70                ford torino         1         0         0  \n"
     ]
    }
   ],
   "source": [
    "import pandas as pd\n",
    "\n",
    "df = pd.read_csv(\"auto_mpg.csv\")\n",
    "print(df.head(5))"
   ]
  },
  {
   "cell_type": "markdown",
   "id": "516bcb5f-fa5c-43e2-b8b3-be008d0a1411",
   "metadata": {},
   "source": [
    "En este caso, las variables binarias \"origin_1\", \"origin_2\", \"origin_3\" representan si el carro de la observación es ya sea de estados unidos, de europa o asia respectivamente. Antes de tomar el curso de acción, veremos cuántas observaciones hay para cada valor."
   ]
  },
  {
   "cell_type": "code",
   "execution_count": 27,
   "id": "8d6de992-ec48-41a7-89af-bcd8083c326b",
   "metadata": {},
   "outputs": [
    {
     "name": "stdout",
     "output_type": "stream",
     "text": [
      "Estados Unidos: 245\n",
      "Europa: 68\n",
      "Asia: 79\n"
     ]
    }
   ],
   "source": [
    "print(\"Estados Unidos:\",df.origin_1[df.origin_1 == 1].sum())\n",
    "print(\"Europa:\",df.origin_2[df.origin_2 == 1].sum())\n",
    "print(\"Asia:\",df.origin_3[df.origin_3 == 1].sum())"
   ]
  },
  {
   "cell_type": "markdown",
   "id": "e99d97d9-64fd-4750-ad83-5a091f828caf",
   "metadata": {},
   "source": [
    "Analizando los datos, debido a la proporción de los valores, considero que resultaría interesante enfocar el modelo en definir si un carro es de Estados Unidos o no, unificando las variables que indican que el carro es ya sea de europa o asia. Para esto, eliminaré las variables \"origin_2\" y \"origin_3\" para manejar la clasificación únicamente mediante los valores binarios de la variable \"origin_1\", siendo esta nuestra variable objetivo."
   ]
  },
  {
   "cell_type": "code",
   "execution_count": 141,
   "id": "a2a70a51-999a-4ae1-be36-91a20cc3c3dc",
   "metadata": {},
   "outputs": [
    {
     "name": "stdout",
     "output_type": "stream",
     "text": [
      "    mpg  cylinders  displacement  horsepower  weight  acceleration  \\\n",
      "0  18.0          8         307.0       130.0  3504.0          12.0   \n",
      "1  15.0          8         350.0       165.0  3693.0          11.5   \n",
      "2  18.0          8         318.0       150.0  3436.0          11.0   \n",
      "3  16.0          8         304.0       150.0  3433.0          12.0   \n",
      "4  17.0          8         302.0       140.0  3449.0          10.5   \n",
      "\n",
      "   model_year  origin_1  \n",
      "0          70         1  \n",
      "1          70         1  \n",
      "2          70         1  \n",
      "3          70         1  \n",
      "4          70         1   \n",
      "\n",
      "Proporción datos originales: 1.6666666666666667\n"
     ]
    }
   ],
   "source": [
    "df = df.drop(columns=[\"car_name\",\"origin_2\", \"origin_3\"], errors=\"ignore\") #También elimino \"car_name\" debido a irrelevancia.\n",
    "print(df.head(5),\"\")"
   ]
  },
  {
   "cell_type": "markdown",
   "id": "dbd3e491-1d73-488f-a6ab-06c0c7779aad",
   "metadata": {},
   "source": [
    "---\n",
    "### Paso 2\n",
    "A continuación, se separarán los datos en entrenamiento y prueba con una relación de 80/20, tratando de buscar un balance de clases, es decir, que la relación de valores de 1 y 0 sean similares en todos los conjuntos de datos. Para esto, buscaremos una semilla para la aleatorización de datos que nos de una proporción similar a la de los datos originales.\n"
   ]
  },
  {
   "cell_type": "code",
   "execution_count": 151,
   "id": "88a81811-3fce-4c90-ae09-de9885648b72",
   "metadata": {},
   "outputs": [
    {
     "name": "stdout",
     "output_type": "stream",
     "text": [
      "\n",
      "Proporción datos originales: 1.6666666666666667\n",
      "Proporción train: 1.6752136752136753\n",
      "Proporción test: 1.6333333333333333\n"
     ]
    }
   ],
   "source": [
    "from sklearn.model_selection import train_test_split\n",
    "\n",
    "y = df[\"origin_1\"].astype(float)\n",
    "X = df.drop(columns=[c for c in [\"origin_1\"] if c in df.columns], errors=\"ignore\").copy()\n",
    "\n",
    "X_train, X_test, y_train, y_test = train_test_split(\n",
    "    X, y, test_size=0.20, random_state=18\n",
    ")\n",
    "\n",
    "print(\"\\nProporción datos originales:\",df.origin_1.value_counts()[1]/df.origin_1.value_counts()[0])\n",
    "print(\"Proporción train:\",y_train.value_counts()[1]/y_train.value_counts()[0])\n",
    "print(\"Proporción test:\",y_test.value_counts()[1]/y_test.value_counts()[0])"
   ]
  },
  {
   "cell_type": "markdown",
   "id": "8ae78d49-f06f-44d1-a72a-0868f38b71ac",
   "metadata": {},
   "source": [
    "Con la semilla 18 obtenemos una proporciones con diferencias menores a 0.05, por lo que considero que son lo suficientemente similares para considerarse balanceada.  "
   ]
  },
  {
   "cell_type": "markdown",
   "id": "059f3593-c2a7-43dc-a93d-6617cf8b6023",
   "metadata": {},
   "source": [
    "---\n",
    "### Paso 3\n",
    "Ahora entrenaremos un modelo de regresión logística mediante el uso de la función LogisticRegression de la librería sklearn y se realizará una validación cruzada con este modelo mediante la función cross_val_score de la misma librería."
   ]
  },
  {
   "cell_type": "code",
   "execution_count": 164,
   "id": "66b591f2-10a4-4053-b2de-954b219cbc01",
   "metadata": {},
   "outputs": [
    {
     "name": "stdout",
     "output_type": "stream",
     "text": [
      "Resultados validación cruzada: [0.87301587 0.82539683 0.85714286 0.93548387 0.91935484]\n",
      "Exactitud promedio: 0.8820788530465948\n"
     ]
    }
   ],
   "source": [
    "from sklearn.linear_model import LogisticRegression\n",
    "from sklearn.model_selection import cross_val_score\n",
    "\n",
    "logreg = LogisticRegression(penalty=None, class_weight=\"balanced\", max_iter=1000)\n",
    "\n",
    "cv_scores = cross_val_score(logreg, X_train, y_train, cv=5, scoring=\"accuracy\")\n",
    "\n",
    "print(\"Resultados validación cruzada:\", cv_scores)\n",
    "print(\"Exactitud promedio:\", cv_scores.mean())\n"
   ]
  },
  {
   "cell_type": "markdown",
   "id": "011f34f0-eede-4e99-8e47-73ffb029356d",
   "metadata": {},
   "source": [
    "Los resultados de la validación cruzada muestran un desempeño sólido del modelo de regresión logística, con una exactitud promedio del 88%. Esto significa que, en promedio, el modelo clasifica correctamente 9 de cada 10 autos al distinguir si son de Estados Unidos o de otra región. La variación entre folds (82% a 93%) indica cierta sensibilidad a los datos usados en el entrenamiento, pero en general refleja un modelo estable y confiable para este problema de clasificación binaria."
   ]
  },
  {
   "cell_type": "markdown",
   "id": "5fb552b4-8a5b-4e8c-a7db-602bb03cd1ef",
   "metadata": {},
   "source": [
    "---\n",
    "### Paso 4\n",
    "Ahora se entrenará el modelo de regresión logística usando todo el conjunto de entrenamiento y luego se evaluará su desempeño en el conjunto de prueba.\n",
    "A partir de las probabilidades predichas para la clase positiva (Estados Unidos = 1), calcularemos la matriz de confusión y reportaremos exactitud, sensibilidad y especificidad usando tres umbrales: uno estándar (0.5), uno menor (más sensible, 0.3) y uno mayor (más específico, 0.7)."
   ]
  },
  {
   "cell_type": "code",
   "execution_count": 166,
   "id": "74b40065-aae9-4f07-b130-dce35b323c8d",
   "metadata": {},
   "outputs": [
    {
     "name": "stdout",
     "output_type": "stream",
     "text": [
      "\n",
      "=== Umbral: 0.30 ===\n",
      "        Pred 0  Pred 1\n",
      "Real 0      20      10\n",
      "Real 1       4      45\n",
      "Exactitud     : 0.823\n",
      "Sensibilidad  : 0.918\n",
      "Especificidad : 0.667\n",
      "\n",
      "=== Umbral: 0.50 ===\n",
      "        Pred 0  Pred 1\n",
      "Real 0      27       3\n",
      "Real 1       5      44\n",
      "Exactitud     : 0.899\n",
      "Sensibilidad  : 0.898\n",
      "Especificidad : 0.900\n",
      "\n",
      "=== Umbral: 0.70 ===\n",
      "        Pred 0  Pred 1\n",
      "Real 0      29       1\n",
      "Real 1       7      42\n",
      "Exactitud     : 0.899\n",
      "Sensibilidad  : 0.857\n",
      "Especificidad : 0.967\n"
     ]
    }
   ],
   "source": [
    "from sklearn.metrics import confusion_matrix, accuracy_score, recall_score\n",
    "import numpy as np\n",
    "\n",
    "# Entrenar el modelo con TODO el conjunto de entrenamiento\n",
    "logreg = LogisticRegression(\n",
    "    penalty=None,\n",
    "    class_weight=\"balanced\",\n",
    "    max_iter=1000\n",
    ")\n",
    "logreg.fit(X_train, y_train)\n",
    "\n",
    "# Obtener probabilidades en el conjunto de prueba\n",
    "y_proba = logreg.predict_proba(X_test)[:, 1]\n",
    "\n",
    "# Función auxiliar para evaluar un umbral\n",
    "def evaluate_threshold(threshold: float):\n",
    "    y_pred = (y_proba >= threshold).astype(int)\n",
    "    cm = confusion_matrix(y_test, y_pred, labels=[0,1])  # [[TN, FP],[FN, TP]]\n",
    "    tn, fp, fn, tp = cm.ravel()\n",
    "    \n",
    "    acc  = accuracy_score(y_test, y_pred)\n",
    "    sens = recall_score(y_test, y_pred, pos_label=1)  # TPR, clase 1\n",
    "    spec = recall_score(y_test, y_pred, pos_label=0)  # TNR, clase 0\n",
    "    \n",
    "    cm_df = pd.DataFrame(cm, index=[\"Real 0\", \"Real 1\"], columns=[\"Pred 0\", \"Pred 1\"])\n",
    "    return {\n",
    "        \"threshold\": threshold,\n",
    "        \"confusion_matrix\": cm_df,\n",
    "        \"accuracy\": acc,\n",
    "        \"sensitivity\": sens,\n",
    "        \"specificity\": spec\n",
    "    }\n",
    "\n",
    "# 4) Evaluar en tres umbrales: menor, estándar 0.5 y mayor\n",
    "thresholds = [0.3, 0.5, 0.7]\n",
    "results = [evaluate_threshold(t) for t in thresholds]\n",
    "\n",
    "# 5) Mostrar resultados\n",
    "for res in results:\n",
    "    print(f\"\\n=== Umbral: {res['threshold']:.2f} ===\")\n",
    "    print(res[\"confusion_matrix\"])\n",
    "    print(f\"Exactitud     : {res['accuracy']:.3f}\")\n",
    "    print(f\"Sensibilidad  : {res['sensitivity']:.3f}\")\n",
    "    print(f\"Especificidad : {res['specificity']:.3f}\")\n"
   ]
  },
  {
   "cell_type": "markdown",
   "id": "6d0c505c-c723-4c34-bf06-0ad60b151203",
   "metadata": {},
   "source": [
    "Los resultados muestran que el desempeño del modelo varía según el umbral utilizado. Con un umbral bajo (0.30), se obtiene una alta sensibilidad (0.918), lo que permite identificar correctamente la mayoría de autos de Estados Unidos, aunque con una menor especificidad (0.667), es decir, se confunden más autos extranjeros como estadounidenses. Con el umbral estándar de 0.50, se alcanza un equilibrio entre sensibilidad (0.898) y especificidad (0.900), logrando además la mayor exactitud global (0.899). Finalmente, al aumentar el umbral a 0.70, la sensibilidad disminuye (0.857), pero la especificidad se incrementa notablemente (0.967), reduciendo casi por completo la confusión de autos extranjeros, aunque a costa de perder algunos positivos."
   ]
  },
  {
   "cell_type": "markdown",
   "id": "13514bba-9c81-42e8-a1b0-25999d6cf50d",
   "metadata": {},
   "source": [
    "---\n",
    "### Paso 5\n",
    "Ahora se evaluará el desempeño global del modelo mediante la curva ROC para observar la relación entre la tasa de verdaderos positivos (sensibilidad) y la tasa de falsos positivos a lo largo de diferentes umbrales de decisión. A partir de esta curva se calculará el área bajo la curva, que nos ayudará a medir la capacidad discriminativa del modelo. Si este valor es cercano a 1, indica un modelo con excelente capacidad de clasificación, mientras que un valor cercano a 0.5 refleja un desempeño similar al azar."
   ]
  },
  {
   "cell_type": "code",
   "execution_count": 172,
   "id": "99d00b51-8b4c-4f4c-9ff8-44172bbbb391",
   "metadata": {},
   "outputs": [
    {
     "name": "stdout",
     "output_type": "stream",
     "text": [
      "AUC: 0.948\n"
     ]
    },
    {
     "data": {
      "image/png": "[encoded data removed]",
      "text/plain": [
       "<Figure size 600x500 with 1 Axes>"
      ]
     },
     "metadata": {},
     "output_type": "display_data"
    }
   ],
   "source": [
    "from sklearn.metrics import roc_curve, roc_auc_score\n",
    "\n",
    "model = LogisticRegression(max_iter=1000, class_weight=\"balanced\")\n",
    "model.fit(X_train, y_train)\n",
    "y_proba = model.predict_proba(X_test)[:, 1]\n",
    "\n",
    "# Curva ROC y AUC\n",
    "fpr, tpr, thr = roc_curve(y_test, y_proba)\n",
    "auc = roc_auc_score(y_test, y_proba)\n",
    "print(f\"AUC: {auc:.3f}\")\n",
    "\n",
    "plt.figure(figsize=(6, 5))\n",
    "plt.plot(fpr, tpr, label=f\"ROC (AUC = {auc:.3f})\")\n",
    "plt.plot([0, 1], [0, 1], linestyle=\"--\")\n",
    "plt.xlabel(\"Tasa de Falsos Positivos (1 - Especificidad)\")\n",
    "plt.ylabel(\"Tasa de Verdaderos Positivos (Sensibilidad)\")\n",
    "plt.title(\"Curva ROC - Regresión Logística\")\n",
    "plt.legend(loc=\"lower right\")\n",
    "plt.tight_layout()\n",
    "plt.show()\n"
   ]
  },
  {
   "cell_type": "markdown",
   "id": "86a32f1e-1a4f-429b-8cc9-fb4cb3363913",
   "metadata": {},
   "source": [
    "La curva ROC generada muestra que el modelo mantiene una tasa de verdaderos positivos alta mientras mantiene considerablemente controlada la tasa de falsos positivos. El valor de AUC cercano a 0.95 indica un muy buen poder discriminativo, es decir, aún si no es perfecto, el modelo es capaz de diferenciar con gran precisión entre autos de Estados Unidos y autos de otras regiones.\n",
    "\n",
    "En términos prácticos, esto significa que, sin importar el umbral que se seleccione, el modelo conserva una buena capacidad para balancear sensibilidad y especificidad. "
   ]
  },
  {
   "cell_type": "markdown",
   "id": "e67f1c71-ed04-436d-a0a8-6c60312fe571",
   "metadata": {},
   "source": [
    "---\n",
    "### Paso 6\n",
    "A continuación, obtendremos los coeficientes de las variables que conforman nuestro modelo para comprender la relevancia de éstas en el mismo."
   ]
  },
  {
   "cell_type": "code",
   "execution_count": 174,
   "id": "6895c3e3-e13d-4257-81f0-a9ee16733cef",
   "metadata": {},
   "outputs": [
    {
     "name": "stdout",
     "output_type": "stream",
     "text": [
      "       Variable  Coeficiente\n",
      "6    model_year     0.321965\n",
      "5  acceleration     0.142688\n",
      "2  displacement     0.129851\n",
      "4        weight    -0.005988\n",
      "3    horsepower    -0.033177\n",
      "0           mpg    -0.222666\n",
      "1     cylinders    -1.407297\n"
     ]
    }
   ],
   "source": [
    "# Extraer coeficientes del modelo entrenado\n",
    "coef_df = pd.DataFrame({\n",
    "    \"Variable\": X_train.columns,\n",
    "    \"Coeficiente\": model.coef_[0]\n",
    "}).sort_values(by=\"Coeficiente\", ascending=False)\n",
    "\n",
    "print(coef_df)\n"
   ]
  },
  {
   "cell_type": "markdown",
   "id": "ac833f9d-c291-4484-9abd-c380ec5ea9c8",
   "metadata": {},
   "source": [
    "* model_year (0.322)\n",
    "Coeficiente positivo. Autos de años más recientes tienen mayor probabilidad de ser de Estados Unidos. Esto puede interpretarse como que la industria estadounidense fue más dominante en periodos posteriores, mientras que en años anteriores había más presencia de autos europeos o asiáticos.\n",
    "\n",
    "* acceleration (0.143)\n",
    "Coeficiente positivo. Autos con mayor aceleración (en segundos para alcanzar cierta velocidad) tienden a ser de Estados Unidos. Puede interpretarse como que los autos americanos de la época priorizaban potencia y tamaño, lo cual se traduce en aceleraciones más altas en promedio.\n",
    "\n",
    "* displacement (0.130)\n",
    "Coeficiente positivo. Un mayor desplazamiento del motor (volumen en cm³) aumenta la probabilidad de que el auto sea de Estados Unidos. Esto concuerda con el hecho de que los autos estadounidenses suelen tener motores más grandes que los europeos o asiáticos.\n",
    "\n",
    "* weight (-0.006)\n",
    "Coeficiente negativo, aunque muy cercano a cero. El peso tiene poca influencia en la clasificación; un ligero aumento en el peso se asocia con menor probabilidad de ser de Estados Unidos, pero el efecto es prácticamente despreciable.\n",
    "\n",
    "* horsepower (-0.033)\n",
    "Coeficiente negativo. Una mayor potencia del motor se asocia levemente con autos extranjeros. Esto podría reflejar que algunos autos europeos o asiáticos lograban más caballos de fuerza con motores más pequeños y eficientes.\n",
    "\n",
    "* mpg (-0.223)\n",
    "Coeficiente negativo. Autos con mayor rendimiento de combustible (más millas por galón) tienen menos probabilidad de ser estadounidenses. Podemos intuir que, en esa época, los autos americanos solían ser menos eficientes en consumo de gasolina comparados con los europeos y asiáticos.\n",
    "\n",
    "* cylinders (-1.407)\n",
    "Coeficiente fuertemente negativo. Autos con mayor número de cilindros tienden a ser extranjeros según el modelo. Esta es una señal interesante, porque en la realidad histórica los autos americanos solían tener muchos cilindros. Esto puede deberse a algún tipo de sesgo, las observaciones particulares que contenía el dataset y una infinidad de razones más. Sin embargo, el modelo generado logra un valor AUC de 0.95, lo cual indica que tiene una gran capacidad discriminativa, por lo que puedo ignorar la relevancia respecto al tema. \n",
    "\n",
    "\n",
    "### Conclusión\n",
    "\n",
    "Las variables más influyentes en la clasificación son cylinders (negativa) y model_year (positiva).\n",
    "\n",
    "Los autos más nuevos y con motores grandes (acceleration y displacement) tienden a clasificarse como estadounidenses.\n",
    "\n",
    "En cambio, más cilindros y mayor eficiencia en combustible reducen la probabilidad de ser un auto de EE. UU., alineándose en parte con la tendencia de autos extranjeros más pequeños y eficientes."
   ]
  }
 ],
 "metadata": {
  "kernelspec": {
   "display_name": "Python [conda env:base] *",
   "language": "python",
   "name": "conda-base-py"
  },
  "language_info": {
   "codemirror_mode": {
    "name": "ipython",
    "version": 3
   },
   "file_extension": ".py",
   "mimetype": "text/x-python",
   "name": "python",
   "nbconvert_exporter": "python",
   "pygments_lexer": "ipython3",
   "version": "3.13.5"
  }
 },
 "nbformat": 4,
 "nbformat_minor": 5
}
